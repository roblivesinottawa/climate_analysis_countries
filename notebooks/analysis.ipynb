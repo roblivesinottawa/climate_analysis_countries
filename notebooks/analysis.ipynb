{
 "cells": [
  {
   "cell_type": "markdown",
   "metadata": {},
   "source": [
    "THE FIRST THING TO DO BEFORE STARTING THE PROJECT IS TO IMPORT THE NECESSARY LIBRARIES. \\\n",
    "PANDAS IS A LIBRARY FOR MANIPULATING DATA FRAMES. \\\n",
    "MATPLOTLIB IS A LIBRARY FOR PLOTTING. \\\n",
    "SEABORN IS A LIBRARY FOR PLOTTING."
   ]
  },
  {
   "cell_type": "code",
   "execution_count": 2,
   "metadata": {},
   "outputs": [
    {
     "name": "stdout",
     "output_type": "stream",
     "text": [
      "Defaulting to user installation because normal site-packages is not writeable\n",
      "Collecting pandas\n",
      "  Downloading pandas-1.3.5-cp310-cp310-macosx_10_9_x86_64.whl (11.3 MB)\n",
      "     |████████████████████████████████| 11.3 MB 264 kB/s            \n",
      "\u001b[?25hCollecting pytz>=2017.3\n",
      "  Downloading pytz-2021.3-py2.py3-none-any.whl (503 kB)\n",
      "     |████████████████████████████████| 503 kB 134 kB/s            \n",
      "\u001b[?25hRequirement already satisfied: python-dateutil>=2.7.3 in /Users/robsontrajano/Library/Python/3.10/lib/python/site-packages (from pandas) (2.8.2)\n",
      "Collecting numpy>=1.21.0\n",
      "  Downloading numpy-1.21.5-cp310-cp310-macosx_10_9_x86_64.whl (17.0 MB)\n",
      "     |████████████████████████████████| 17.0 MB 75 kB/s             \n",
      "\u001b[?25hRequirement already satisfied: six>=1.5 in /Users/robsontrajano/Library/Python/3.10/lib/python/site-packages (from python-dateutil>=2.7.3->pandas) (1.16.0)\n",
      "Installing collected packages: pytz, numpy, pandas\n",
      "\u001b[33m  WARNING: The scripts f2py, f2py3 and f2py3.10 are installed in '/Users/robsontrajano/Library/Python/3.10/bin' which is not on PATH.\n",
      "  Consider adding this directory to PATH or, if you prefer to suppress this warning, use --no-warn-script-location.\n",
      "  NOTE: The current PATH contains path(s) starting with `~`, which may not be expanded by all applications.\u001b[0m\n",
      "Successfully installed numpy-1.21.5 pandas-1.3.5 pytz-2021.3\n",
      "Note: you may need to restart the kernel to use updated packages.\n"
     ]
    }
   ],
   "source": [
    "%pip install pandas"
   ]
  },
  {
   "cell_type": "code",
   "execution_count": 4,
   "metadata": {},
   "outputs": [
    {
     "name": "stdout",
     "output_type": "stream",
     "text": [
      "Defaulting to user installation because normal site-packages is not writeable\n",
      "Collecting matplotlib\n",
      "  Downloading matplotlib-3.5.1-cp310-cp310-macosx_10_9_x86_64.whl (7.3 MB)\n",
      "     |████████████████████████████████| 7.3 MB 1.9 MB/s            \n",
      "\u001b[?25hCollecting pyparsing>=2.2.1\n",
      "  Downloading pyparsing-3.0.6-py3-none-any.whl (97 kB)\n",
      "     |████████████████████████████████| 97 kB 213 kB/s            \n",
      "\u001b[?25hRequirement already satisfied: numpy>=1.17 in /Users/robsontrajano/Library/Python/3.10/lib/python/site-packages (from matplotlib) (1.21.5)\n",
      "Collecting cycler>=0.10\n",
      "  Downloading cycler-0.11.0-py3-none-any.whl (6.4 kB)\n",
      "Collecting pillow>=6.2.0\n",
      "  Downloading Pillow-8.4.0-cp310-cp310-macosx_10_10_universal2.whl (3.0 MB)\n",
      "     |████████████████████████████████| 3.0 MB 520 kB/s            \n",
      "\u001b[?25hRequirement already satisfied: python-dateutil>=2.7 in /Users/robsontrajano/Library/Python/3.10/lib/python/site-packages (from matplotlib) (2.8.2)\n",
      "Collecting fonttools>=4.22.0\n",
      "  Downloading fonttools-4.28.5-py3-none-any.whl (890 kB)\n",
      "     |████████████████████████████████| 890 kB 243 kB/s            \n",
      "\u001b[?25hCollecting packaging>=20.0\n",
      "  Downloading packaging-21.3-py3-none-any.whl (40 kB)\n",
      "     |████████████████████████████████| 40 kB 283 kB/s            \n",
      "\u001b[?25hCollecting kiwisolver>=1.0.1\n",
      "  Downloading kiwisolver-1.3.2-cp310-cp310-macosx_10_9_x86_64.whl (61 kB)\n",
      "     |████████████████████████████████| 61 kB 6.7 kB/s            \n",
      "\u001b[?25hRequirement already satisfied: six>=1.5 in /Users/robsontrajano/Library/Python/3.10/lib/python/site-packages (from python-dateutil>=2.7->matplotlib) (1.16.0)\n",
      "Installing collected packages: pyparsing, pillow, packaging, kiwisolver, fonttools, cycler, matplotlib\n",
      "\u001b[33m  WARNING: The scripts fonttools, pyftmerge, pyftsubset and ttx are installed in '/Users/robsontrajano/Library/Python/3.10/bin' which is not on PATH.\n",
      "  Consider adding this directory to PATH or, if you prefer to suppress this warning, use --no-warn-script-location.\n",
      "  NOTE: The current PATH contains path(s) starting with `~`, which may not be expanded by all applications.\u001b[0m\n",
      "Successfully installed cycler-0.11.0 fonttools-4.28.5 kiwisolver-1.3.2 matplotlib-3.5.1 packaging-21.3 pillow-8.4.0 pyparsing-3.0.6\n",
      "Note: you may need to restart the kernel to use updated packages.\n"
     ]
    }
   ],
   "source": [
    "%pip install matplotlib"
   ]
  },
  {
   "cell_type": "code",
   "execution_count": 6,
   "metadata": {},
   "outputs": [
    {
     "name": "stdout",
     "output_type": "stream",
     "text": [
      "Defaulting to user installation because normal site-packages is not writeable\n",
      "Collecting seaborn\n",
      "  Downloading seaborn-0.11.2-py3-none-any.whl (292 kB)\n",
      "     |████████████████████████████████| 292 kB 248 kB/s            \n",
      "\u001b[?25hRequirement already satisfied: matplotlib>=2.2 in /Users/robsontrajano/Library/Python/3.10/lib/python/site-packages (from seaborn) (3.5.1)\n",
      "Requirement already satisfied: pandas>=0.23 in /Users/robsontrajano/Library/Python/3.10/lib/python/site-packages (from seaborn) (1.3.5)\n",
      "Collecting scipy>=1.0\n",
      "  Downloading scipy-1.7.3-cp310-cp310-macosx_10_9_x86_64.whl (33.2 MB)\n",
      "     |████████████████████████████████| 33.2 MB 858 bytes/s         \n",
      "\u001b[?25hRequirement already satisfied: numpy>=1.15 in /Users/robsontrajano/Library/Python/3.10/lib/python/site-packages (from seaborn) (1.21.5)\n",
      "Requirement already satisfied: fonttools>=4.22.0 in /Users/robsontrajano/Library/Python/3.10/lib/python/site-packages (from matplotlib>=2.2->seaborn) (4.28.5)\n",
      "Requirement already satisfied: pillow>=6.2.0 in /Users/robsontrajano/Library/Python/3.10/lib/python/site-packages (from matplotlib>=2.2->seaborn) (8.4.0)\n",
      "Requirement already satisfied: pyparsing>=2.2.1 in /Users/robsontrajano/Library/Python/3.10/lib/python/site-packages (from matplotlib>=2.2->seaborn) (3.0.6)\n",
      "Requirement already satisfied: kiwisolver>=1.0.1 in /Users/robsontrajano/Library/Python/3.10/lib/python/site-packages (from matplotlib>=2.2->seaborn) (1.3.2)\n",
      "Requirement already satisfied: cycler>=0.10 in /Users/robsontrajano/Library/Python/3.10/lib/python/site-packages (from matplotlib>=2.2->seaborn) (0.11.0)\n",
      "Requirement already satisfied: packaging>=20.0 in /Users/robsontrajano/Library/Python/3.10/lib/python/site-packages (from matplotlib>=2.2->seaborn) (21.3)\n",
      "Requirement already satisfied: python-dateutil>=2.7 in /Users/robsontrajano/Library/Python/3.10/lib/python/site-packages (from matplotlib>=2.2->seaborn) (2.8.2)\n",
      "Requirement already satisfied: pytz>=2017.3 in /Users/robsontrajano/Library/Python/3.10/lib/python/site-packages (from pandas>=0.23->seaborn) (2021.3)\n",
      "Requirement already satisfied: six>=1.5 in /Users/robsontrajano/Library/Python/3.10/lib/python/site-packages (from python-dateutil>=2.7->matplotlib>=2.2->seaborn) (1.16.0)\n",
      "Installing collected packages: scipy, seaborn\n",
      "Successfully installed scipy-1.7.3 seaborn-0.11.2\n",
      "Note: you may need to restart the kernel to use updated packages.\n"
     ]
    }
   ],
   "source": [
    "%pip install seaborn"
   ]
  },
  {
   "cell_type": "code",
   "execution_count": 7,
   "metadata": {},
   "outputs": [],
   "source": [
    "import pandas as pd\n",
    "import matplotlib.pyplot as plt\n",
    "import seaborn as sns"
   ]
  },
  {
   "cell_type": "markdown",
   "metadata": {},
   "source": [
    "AFTER THE LIBRARIES HAVE BEEN INSTALLED AND LOADED, THE NEXT STEP IS TO \\\n",
    "IMPORT THE DATA."
   ]
  },
  {
   "cell_type": "code",
   "execution_count": 13,
   "metadata": {},
   "outputs": [
    {
     "data": {
      "text/html": [
       "<div>\n",
       "<style scoped>\n",
       "    .dataframe tbody tr th:only-of-type {\n",
       "        vertical-align: middle;\n",
       "    }\n",
       "\n",
       "    .dataframe tbody tr th {\n",
       "        vertical-align: top;\n",
       "    }\n",
       "\n",
       "    .dataframe thead th {\n",
       "        text-align: right;\n",
       "    }\n",
       "</style>\n",
       "<table border=\"1\" class=\"dataframe\">\n",
       "  <thead>\n",
       "    <tr style=\"text-align: right;\">\n",
       "      <th></th>\n",
       "      <th>dt</th>\n",
       "      <th>AverageTemperature</th>\n",
       "      <th>AverageTemperatureUncertainty</th>\n",
       "      <th>City</th>\n",
       "      <th>Country</th>\n",
       "      <th>Latitude</th>\n",
       "      <th>Longitude</th>\n",
       "    </tr>\n",
       "  </thead>\n",
       "  <tbody>\n",
       "    <tr>\n",
       "      <th>0</th>\n",
       "      <td>1849-01-01</td>\n",
       "      <td>26.704</td>\n",
       "      <td>1.435</td>\n",
       "      <td>Abidjan</td>\n",
       "      <td>Côte D'Ivoire</td>\n",
       "      <td>5.63N</td>\n",
       "      <td>3.23W</td>\n",
       "    </tr>\n",
       "    <tr>\n",
       "      <th>1</th>\n",
       "      <td>1849-02-01</td>\n",
       "      <td>27.434</td>\n",
       "      <td>1.362</td>\n",
       "      <td>Abidjan</td>\n",
       "      <td>Côte D'Ivoire</td>\n",
       "      <td>5.63N</td>\n",
       "      <td>3.23W</td>\n",
       "    </tr>\n",
       "    <tr>\n",
       "      <th>2</th>\n",
       "      <td>1849-03-01</td>\n",
       "      <td>28.101</td>\n",
       "      <td>1.612</td>\n",
       "      <td>Abidjan</td>\n",
       "      <td>Côte D'Ivoire</td>\n",
       "      <td>5.63N</td>\n",
       "      <td>3.23W</td>\n",
       "    </tr>\n",
       "    <tr>\n",
       "      <th>3</th>\n",
       "      <td>1849-04-01</td>\n",
       "      <td>26.140</td>\n",
       "      <td>1.387</td>\n",
       "      <td>Abidjan</td>\n",
       "      <td>Côte D'Ivoire</td>\n",
       "      <td>5.63N</td>\n",
       "      <td>3.23W</td>\n",
       "    </tr>\n",
       "    <tr>\n",
       "      <th>4</th>\n",
       "      <td>1849-05-01</td>\n",
       "      <td>25.427</td>\n",
       "      <td>1.200</td>\n",
       "      <td>Abidjan</td>\n",
       "      <td>Côte D'Ivoire</td>\n",
       "      <td>5.63N</td>\n",
       "      <td>3.23W</td>\n",
       "    </tr>\n",
       "  </tbody>\n",
       "</table>\n",
       "</div>"
      ],
      "text/plain": [
       "          dt  AverageTemperature  AverageTemperatureUncertainty     City  \\\n",
       "0 1849-01-01              26.704                          1.435  Abidjan   \n",
       "1 1849-02-01              27.434                          1.362  Abidjan   \n",
       "2 1849-03-01              28.101                          1.612  Abidjan   \n",
       "3 1849-04-01              26.140                          1.387  Abidjan   \n",
       "4 1849-05-01              25.427                          1.200  Abidjan   \n",
       "\n",
       "         Country Latitude Longitude  \n",
       "0  Côte D'Ivoire    5.63N     3.23W  \n",
       "1  Côte D'Ivoire    5.63N     3.23W  \n",
       "2  Côte D'Ivoire    5.63N     3.23W  \n",
       "3  Côte D'Ivoire    5.63N     3.23W  \n",
       "4  Côte D'Ivoire    5.63N     3.23W  "
      ]
     },
     "execution_count": 13,
     "metadata": {},
     "output_type": "execute_result"
    }
   ],
   "source": [
    "df = pd.read_csv(\"../data/GlobalLandTemperaturesByMajorCity.csv\", parse_dates=['dt'])\n",
    "df.head()"
   ]
  },
  {
   "cell_type": "markdown",
   "metadata": {},
   "source": [
    "USE THE .INFO() METHOD TO SEE THE DIMENSIONS OF THE DATA."
   ]
  },
  {
   "cell_type": "code",
   "execution_count": 14,
   "metadata": {},
   "outputs": [
    {
     "name": "stdout",
     "output_type": "stream",
     "text": [
      "<class 'pandas.core.frame.DataFrame'>\n",
      "RangeIndex: 239177 entries, 0 to 239176\n",
      "Data columns (total 7 columns):\n",
      " #   Column                         Non-Null Count   Dtype         \n",
      "---  ------                         --------------   -----         \n",
      " 0   dt                             239177 non-null  datetime64[ns]\n",
      " 1   AverageTemperature             228175 non-null  float64       \n",
      " 2   AverageTemperatureUncertainty  228175 non-null  float64       \n",
      " 3   City                           239177 non-null  object        \n",
      " 4   Country                        239177 non-null  object        \n",
      " 5   Latitude                       239177 non-null  object        \n",
      " 6   Longitude                      239177 non-null  object        \n",
      "dtypes: datetime64[ns](1), float64(2), object(4)\n",
      "memory usage: 12.8+ MB\n"
     ]
    }
   ],
   "source": [
    "df.info()"
   ]
  },
  {
   "cell_type": "markdown",
   "metadata": {},
   "source": [
    "USE THE .DESCRIBE() METHOD TO SEE THE MEAN, MEDIAN, AND STANDARD DEVIATION OF \\\n",
    "EACH COLUMN."
   ]
  },
  {
   "cell_type": "code",
   "execution_count": 16,
   "metadata": {},
   "outputs": [
    {
     "name": "stdout",
     "output_type": "stream",
     "text": [
      "       AverageTemperature  AverageTemperatureUncertainty\n",
      "count       228175.000000                  228175.000000\n",
      "mean            18.125969                       0.969343\n",
      "std             10.024800                       0.979644\n",
      "min            -26.772000                       0.040000\n",
      "25%             12.710000                       0.340000\n",
      "50%             20.428000                       0.592000\n",
      "75%             25.918000                       1.320000\n",
      "max             38.283000                      14.037000\n"
     ]
    }
   ],
   "source": [
    "print(df.describe()) # summary statistics"
   ]
  },
  {
   "cell_type": "markdown",
   "metadata": {},
   "source": [
    "THE .SHAPE() METHOD WILL RETURN THE NUMBER OF ROWS AND COLUMNS IN THE DATA."
   ]
  },
  {
   "cell_type": "code",
   "execution_count": 18,
   "metadata": {},
   "outputs": [
    {
     "data": {
      "text/plain": [
       "(239177, 7)"
      ]
     },
     "execution_count": 18,
     "metadata": {},
     "output_type": "execute_result"
    }
   ],
   "source": [
    "df.shape"
   ]
  },
  {
   "cell_type": "markdown",
   "metadata": {},
   "source": [
    "THE .ISNA() METHOD WILL RETURN A BOOLEAN ARRAY INDICATING WHETHER THERE IS \\\n",
    "ANY MISSING DATA IN EACH COLUMN."
   ]
  },
  {
   "cell_type": "code",
   "execution_count": 19,
   "metadata": {},
   "outputs": [
    {
     "data": {
      "text/plain": [
       "dt                                   0\n",
       "AverageTemperature               11002\n",
       "AverageTemperatureUncertainty    11002\n",
       "City                                 0\n",
       "Country                              0\n",
       "Latitude                             0\n",
       "Longitude                            0\n",
       "dtype: int64"
      ]
     },
     "execution_count": 19,
     "metadata": {},
     "output_type": "execute_result"
    }
   ],
   "source": [
    "df.isna().sum()"
   ]
  },
  {
   "cell_type": "code",
   "execution_count": 20,
   "metadata": {},
   "outputs": [
    {
     "data": {
      "text/plain": [
       "dt                               0.000000\n",
       "AverageTemperature               0.045999\n",
       "AverageTemperatureUncertainty    0.045999\n",
       "City                             0.000000\n",
       "Country                          0.000000\n",
       "Latitude                         0.000000\n",
       "Longitude                        0.000000\n",
       "dtype: float64"
      ]
     },
     "execution_count": 20,
     "metadata": {},
     "output_type": "execute_result"
    }
   ],
   "source": [
    "# percentage losses of data\n",
    "df.isna().sum() / df.shape[0]"
   ]
  },
  {
   "cell_type": "code",
   "execution_count": 21,
   "metadata": {},
   "outputs": [],
   "source": [
    "df.dropna(inplace=True) # drop all rows with missing values"
   ]
  },
  {
   "cell_type": "code",
   "execution_count": 23,
   "metadata": {},
   "outputs": [
    {
     "data": {
      "text/plain": [
       "dt                               0\n",
       "AverageTemperature               0\n",
       "AverageTemperatureUncertainty    0\n",
       "City                             0\n",
       "Country                          0\n",
       "Latitude                         0\n",
       "Longitude                        0\n",
       "dtype: int64"
      ]
     },
     "execution_count": 23,
     "metadata": {},
     "output_type": "execute_result"
    }
   ],
   "source": [
    "df.isna().sum() # check if there are any missing values"
   ]
  },
  {
   "cell_type": "code",
   "execution_count": 24,
   "metadata": {},
   "outputs": [
    {
     "data": {
      "text/html": [
       "<div>\n",
       "<style scoped>\n",
       "    .dataframe tbody tr th:only-of-type {\n",
       "        vertical-align: middle;\n",
       "    }\n",
       "\n",
       "    .dataframe tbody tr th {\n",
       "        vertical-align: top;\n",
       "    }\n",
       "\n",
       "    .dataframe thead th {\n",
       "        text-align: right;\n",
       "    }\n",
       "</style>\n",
       "<table border=\"1\" class=\"dataframe\">\n",
       "  <thead>\n",
       "    <tr style=\"text-align: right;\">\n",
       "      <th></th>\n",
       "      <th>dt</th>\n",
       "      <th>AverageTemperature</th>\n",
       "      <th>AverageTemperatureUncertainty</th>\n",
       "      <th>City</th>\n",
       "      <th>Country</th>\n",
       "      <th>Latitude</th>\n",
       "      <th>Longitude</th>\n",
       "    </tr>\n",
       "  </thead>\n",
       "  <tbody>\n",
       "    <tr>\n",
       "      <th>0</th>\n",
       "      <td>1849-01-01</td>\n",
       "      <td>26.704</td>\n",
       "      <td>1.435</td>\n",
       "      <td>Abidjan</td>\n",
       "      <td>Côte D'Ivoire</td>\n",
       "      <td>5.63N</td>\n",
       "      <td>3.23W</td>\n",
       "    </tr>\n",
       "    <tr>\n",
       "      <th>1</th>\n",
       "      <td>1849-02-01</td>\n",
       "      <td>27.434</td>\n",
       "      <td>1.362</td>\n",
       "      <td>Abidjan</td>\n",
       "      <td>Côte D'Ivoire</td>\n",
       "      <td>5.63N</td>\n",
       "      <td>3.23W</td>\n",
       "    </tr>\n",
       "    <tr>\n",
       "      <th>2</th>\n",
       "      <td>1849-03-01</td>\n",
       "      <td>28.101</td>\n",
       "      <td>1.612</td>\n",
       "      <td>Abidjan</td>\n",
       "      <td>Côte D'Ivoire</td>\n",
       "      <td>5.63N</td>\n",
       "      <td>3.23W</td>\n",
       "    </tr>\n",
       "    <tr>\n",
       "      <th>3</th>\n",
       "      <td>1849-04-01</td>\n",
       "      <td>26.140</td>\n",
       "      <td>1.387</td>\n",
       "      <td>Abidjan</td>\n",
       "      <td>Côte D'Ivoire</td>\n",
       "      <td>5.63N</td>\n",
       "      <td>3.23W</td>\n",
       "    </tr>\n",
       "    <tr>\n",
       "      <th>4</th>\n",
       "      <td>1849-05-01</td>\n",
       "      <td>25.427</td>\n",
       "      <td>1.200</td>\n",
       "      <td>Abidjan</td>\n",
       "      <td>Côte D'Ivoire</td>\n",
       "      <td>5.63N</td>\n",
       "      <td>3.23W</td>\n",
       "    </tr>\n",
       "  </tbody>\n",
       "</table>\n",
       "</div>"
      ],
      "text/plain": [
       "          dt  AverageTemperature  AverageTemperatureUncertainty     City  \\\n",
       "0 1849-01-01              26.704                          1.435  Abidjan   \n",
       "1 1849-02-01              27.434                          1.362  Abidjan   \n",
       "2 1849-03-01              28.101                          1.612  Abidjan   \n",
       "3 1849-04-01              26.140                          1.387  Abidjan   \n",
       "4 1849-05-01              25.427                          1.200  Abidjan   \n",
       "\n",
       "         Country Latitude Longitude  \n",
       "0  Côte D'Ivoire    5.63N     3.23W  \n",
       "1  Côte D'Ivoire    5.63N     3.23W  \n",
       "2  Côte D'Ivoire    5.63N     3.23W  \n",
       "3  Côte D'Ivoire    5.63N     3.23W  \n",
       "4  Côte D'Ivoire    5.63N     3.23W  "
      ]
     },
     "execution_count": 24,
     "metadata": {},
     "output_type": "execute_result"
    }
   ],
   "source": [
    "df.head()   # check the first 5 rows"
   ]
  },
  {
   "cell_type": "code",
   "execution_count": 26,
   "metadata": {},
   "outputs": [
    {
     "data": {
      "text/html": [
       "<div>\n",
       "<style scoped>\n",
       "    .dataframe tbody tr th:only-of-type {\n",
       "        vertical-align: middle;\n",
       "    }\n",
       "\n",
       "    .dataframe tbody tr th {\n",
       "        vertical-align: top;\n",
       "    }\n",
       "\n",
       "    .dataframe thead th {\n",
       "        text-align: right;\n",
       "    }\n",
       "</style>\n",
       "<table border=\"1\" class=\"dataframe\">\n",
       "  <thead>\n",
       "    <tr style=\"text-align: right;\">\n",
       "      <th></th>\n",
       "      <th>City</th>\n",
       "      <th>Country</th>\n",
       "    </tr>\n",
       "  </thead>\n",
       "  <tbody>\n",
       "    <tr>\n",
       "      <th>0</th>\n",
       "      <td>Abidjan</td>\n",
       "      <td>Côte D'Ivoire</td>\n",
       "    </tr>\n",
       "    <tr>\n",
       "      <th>1</th>\n",
       "      <td>Abidjan</td>\n",
       "      <td>Côte D'Ivoire</td>\n",
       "    </tr>\n",
       "    <tr>\n",
       "      <th>2</th>\n",
       "      <td>Abidjan</td>\n",
       "      <td>Côte D'Ivoire</td>\n",
       "    </tr>\n",
       "    <tr>\n",
       "      <th>3</th>\n",
       "      <td>Abidjan</td>\n",
       "      <td>Côte D'Ivoire</td>\n",
       "    </tr>\n",
       "    <tr>\n",
       "      <th>4</th>\n",
       "      <td>Abidjan</td>\n",
       "      <td>Côte D'Ivoire</td>\n",
       "    </tr>\n",
       "    <tr>\n",
       "      <th>...</th>\n",
       "      <td>...</td>\n",
       "      <td>...</td>\n",
       "    </tr>\n",
       "    <tr>\n",
       "      <th>239171</th>\n",
       "      <td>Xian</td>\n",
       "      <td>China</td>\n",
       "    </tr>\n",
       "    <tr>\n",
       "      <th>239172</th>\n",
       "      <td>Xian</td>\n",
       "      <td>China</td>\n",
       "    </tr>\n",
       "    <tr>\n",
       "      <th>239173</th>\n",
       "      <td>Xian</td>\n",
       "      <td>China</td>\n",
       "    </tr>\n",
       "    <tr>\n",
       "      <th>239174</th>\n",
       "      <td>Xian</td>\n",
       "      <td>China</td>\n",
       "    </tr>\n",
       "    <tr>\n",
       "      <th>239175</th>\n",
       "      <td>Xian</td>\n",
       "      <td>China</td>\n",
       "    </tr>\n",
       "  </tbody>\n",
       "</table>\n",
       "<p>228175 rows × 2 columns</p>\n",
       "</div>"
      ],
      "text/plain": [
       "           City        Country\n",
       "0       Abidjan  Côte D'Ivoire\n",
       "1       Abidjan  Côte D'Ivoire\n",
       "2       Abidjan  Côte D'Ivoire\n",
       "3       Abidjan  Côte D'Ivoire\n",
       "4       Abidjan  Côte D'Ivoire\n",
       "...         ...            ...\n",
       "239171     Xian          China\n",
       "239172     Xian          China\n",
       "239173     Xian          China\n",
       "239174     Xian          China\n",
       "239175     Xian          China\n",
       "\n",
       "[228175 rows x 2 columns]"
      ]
     },
     "execution_count": 26,
     "metadata": {},
     "output_type": "execute_result"
    }
   ],
   "source": [
    "df[['City', 'Country']]"
   ]
  },
  {
   "cell_type": "code",
   "execution_count": 27,
   "metadata": {},
   "outputs": [
    {
     "data": {
      "text/html": [
       "<div>\n",
       "<style scoped>\n",
       "    .dataframe tbody tr th:only-of-type {\n",
       "        vertical-align: middle;\n",
       "    }\n",
       "\n",
       "    .dataframe tbody tr th {\n",
       "        vertical-align: top;\n",
       "    }\n",
       "\n",
       "    .dataframe thead th {\n",
       "        text-align: right;\n",
       "    }\n",
       "</style>\n",
       "<table border=\"1\" class=\"dataframe\">\n",
       "  <thead>\n",
       "    <tr style=\"text-align: right;\">\n",
       "      <th></th>\n",
       "      <th>dt</th>\n",
       "      <th>AverageTemperature</th>\n",
       "      <th>AverageTemperatureUncertainty</th>\n",
       "      <th>City</th>\n",
       "      <th>Country</th>\n",
       "      <th>Latitude</th>\n",
       "      <th>Longitude</th>\n",
       "    </tr>\n",
       "  </thead>\n",
       "  <tbody>\n",
       "    <tr>\n",
       "      <th>151957</th>\n",
       "      <td>1743-11-01</td>\n",
       "      <td>-1.854</td>\n",
       "      <td>1.734</td>\n",
       "      <td>Montreal</td>\n",
       "      <td>Canada</td>\n",
       "      <td>45.81N</td>\n",
       "      <td>72.69W</td>\n",
       "    </tr>\n",
       "    <tr>\n",
       "      <th>151962</th>\n",
       "      <td>1744-04-01</td>\n",
       "      <td>5.164</td>\n",
       "      <td>2.209</td>\n",
       "      <td>Montreal</td>\n",
       "      <td>Canada</td>\n",
       "      <td>45.81N</td>\n",
       "      <td>72.69W</td>\n",
       "    </tr>\n",
       "    <tr>\n",
       "      <th>151963</th>\n",
       "      <td>1744-05-01</td>\n",
       "      <td>12.306</td>\n",
       "      <td>1.541</td>\n",
       "      <td>Montreal</td>\n",
       "      <td>Canada</td>\n",
       "      <td>45.81N</td>\n",
       "      <td>72.69W</td>\n",
       "    </tr>\n",
       "    <tr>\n",
       "      <th>151964</th>\n",
       "      <td>1744-06-01</td>\n",
       "      <td>18.401</td>\n",
       "      <td>1.460</td>\n",
       "      <td>Montreal</td>\n",
       "      <td>Canada</td>\n",
       "      <td>45.81N</td>\n",
       "      <td>72.69W</td>\n",
       "    </tr>\n",
       "    <tr>\n",
       "      <th>151965</th>\n",
       "      <td>1744-07-01</td>\n",
       "      <td>19.320</td>\n",
       "      <td>1.331</td>\n",
       "      <td>Montreal</td>\n",
       "      <td>Canada</td>\n",
       "      <td>45.81N</td>\n",
       "      <td>72.69W</td>\n",
       "    </tr>\n",
       "    <tr>\n",
       "      <th>...</th>\n",
       "      <td>...</td>\n",
       "      <td>...</td>\n",
       "      <td>...</td>\n",
       "      <td>...</td>\n",
       "      <td>...</td>\n",
       "      <td>...</td>\n",
       "      <td>...</td>\n",
       "    </tr>\n",
       "    <tr>\n",
       "      <th>232924</th>\n",
       "      <td>2013-05-01</td>\n",
       "      <td>13.818</td>\n",
       "      <td>0.278</td>\n",
       "      <td>Toronto</td>\n",
       "      <td>Canada</td>\n",
       "      <td>44.20N</td>\n",
       "      <td>80.50W</td>\n",
       "    </tr>\n",
       "    <tr>\n",
       "      <th>232925</th>\n",
       "      <td>2013-06-01</td>\n",
       "      <td>17.367</td>\n",
       "      <td>0.226</td>\n",
       "      <td>Toronto</td>\n",
       "      <td>Canada</td>\n",
       "      <td>44.20N</td>\n",
       "      <td>80.50W</td>\n",
       "    </tr>\n",
       "    <tr>\n",
       "      <th>232926</th>\n",
       "      <td>2013-07-01</td>\n",
       "      <td>20.460</td>\n",
       "      <td>0.290</td>\n",
       "      <td>Toronto</td>\n",
       "      <td>Canada</td>\n",
       "      <td>44.20N</td>\n",
       "      <td>80.50W</td>\n",
       "    </tr>\n",
       "    <tr>\n",
       "      <th>232927</th>\n",
       "      <td>2013-08-01</td>\n",
       "      <td>18.520</td>\n",
       "      <td>0.342</td>\n",
       "      <td>Toronto</td>\n",
       "      <td>Canada</td>\n",
       "      <td>44.20N</td>\n",
       "      <td>80.50W</td>\n",
       "    </tr>\n",
       "    <tr>\n",
       "      <th>232928</th>\n",
       "      <td>2013-09-01</td>\n",
       "      <td>14.599</td>\n",
       "      <td>1.274</td>\n",
       "      <td>Toronto</td>\n",
       "      <td>Canada</td>\n",
       "      <td>44.20N</td>\n",
       "      <td>80.50W</td>\n",
       "    </tr>\n",
       "  </tbody>\n",
       "</table>\n",
       "<p>6282 rows × 7 columns</p>\n",
       "</div>"
      ],
      "text/plain": [
       "               dt  AverageTemperature  AverageTemperatureUncertainty  \\\n",
       "151957 1743-11-01              -1.854                          1.734   \n",
       "151962 1744-04-01               5.164                          2.209   \n",
       "151963 1744-05-01              12.306                          1.541   \n",
       "151964 1744-06-01              18.401                          1.460   \n",
       "151965 1744-07-01              19.320                          1.331   \n",
       "...           ...                 ...                            ...   \n",
       "232924 2013-05-01              13.818                          0.278   \n",
       "232925 2013-06-01              17.367                          0.226   \n",
       "232926 2013-07-01              20.460                          0.290   \n",
       "232927 2013-08-01              18.520                          0.342   \n",
       "232928 2013-09-01              14.599                          1.274   \n",
       "\n",
       "            City Country Latitude Longitude  \n",
       "151957  Montreal  Canada   45.81N    72.69W  \n",
       "151962  Montreal  Canada   45.81N    72.69W  \n",
       "151963  Montreal  Canada   45.81N    72.69W  \n",
       "151964  Montreal  Canada   45.81N    72.69W  \n",
       "151965  Montreal  Canada   45.81N    72.69W  \n",
       "...          ...     ...      ...       ...  \n",
       "232924   Toronto  Canada   44.20N    80.50W  \n",
       "232925   Toronto  Canada   44.20N    80.50W  \n",
       "232926   Toronto  Canada   44.20N    80.50W  \n",
       "232927   Toronto  Canada   44.20N    80.50W  \n",
       "232928   Toronto  Canada   44.20N    80.50W  \n",
       "\n",
       "[6282 rows x 7 columns]"
      ]
     },
     "execution_count": 27,
     "metadata": {},
     "output_type": "execute_result"
    }
   ],
   "source": [
    "df[df.Country == \"Canada\"]"
   ]
  },
  {
   "cell_type": "code",
   "execution_count": 28,
   "metadata": {},
   "outputs": [
    {
     "data": {
      "text/plain": [
       "array(['Montreal', 'Toronto'], dtype=object)"
      ]
     },
     "execution_count": 28,
     "metadata": {},
     "output_type": "execute_result"
    }
   ],
   "source": [
    "df[df.Country == \"Canada\"].City.unique()    # unique values"
   ]
  },
  {
   "cell_type": "code",
   "execution_count": 29,
   "metadata": {},
   "outputs": [
    {
     "data": {
      "text/plain": [
       "China                                 34952\n",
       "India                                 34627\n",
       "Brazil                                12139\n",
       "Turkey                                 9239\n",
       "United States                          8237\n",
       "Egypt                                  7550\n",
       "Pakistan                               6490\n",
       "Russia                                 6332\n",
       "Canada                                 6282\n",
       "Nigeria                                5200\n",
       "Australia                              4138\n",
       "Japan                                  4050\n",
       "Colombia                               4003\n",
       "Saudi Arabia                           3856\n",
       "Indonesia                              3758\n",
       "South Africa                           3746\n",
       "Spain                                  3166\n",
       "Italy                                  3166\n",
       "Germany                                3166\n",
       "United Kingdom                         3166\n",
       "Ukraine                                3166\n",
       "France                                 3166\n",
       "Morocco                                2914\n",
       "Burma                                  2532\n",
       "Bangladesh                             2532\n",
       "Syria                                  2479\n",
       "Iraq                                   2320\n",
       "Thailand                               2246\n",
       "Dominican Republic                     2207\n",
       "Iran                                   2155\n",
       "Mexico                                 2145\n",
       "Afghanistan                            2121\n",
       "South Korea                            2096\n",
       "Taiwan                                 2071\n",
       "Vietnam                                2069\n",
       "Singapore                              2052\n",
       "Philippines                            2021\n",
       "Chile                                  1900\n",
       "Senegal                                1872\n",
       "Côte D'Ivoire                          1777\n",
       "Sudan                                  1768\n",
       "Angola                                 1735\n",
       "Congo (Democratic Republic Of The)     1735\n",
       "Zimbabwe                               1690\n",
       "Somalia                                1679\n",
       "Ethiopia                               1679\n",
       "Kenya                                  1678\n",
       "Tanzania                               1586\n",
       "Peru                                   1521\n",
       "Name: Country, dtype: int64"
      ]
     },
     "execution_count": 29,
     "metadata": {},
     "output_type": "execute_result"
    }
   ],
   "source": [
    "df.Country.value_counts()   "
   ]
  },
  {
   "cell_type": "code",
   "execution_count": 31,
   "metadata": {},
   "outputs": [
    {
     "data": {
      "text/html": [
       "<div>\n",
       "<style scoped>\n",
       "    .dataframe tbody tr th:only-of-type {\n",
       "        vertical-align: middle;\n",
       "    }\n",
       "\n",
       "    .dataframe tbody tr th {\n",
       "        vertical-align: top;\n",
       "    }\n",
       "\n",
       "    .dataframe thead th {\n",
       "        text-align: right;\n",
       "    }\n",
       "</style>\n",
       "<table border=\"1\" class=\"dataframe\">\n",
       "  <thead>\n",
       "    <tr style=\"text-align: right;\">\n",
       "      <th></th>\n",
       "      <th>dt</th>\n",
       "      <th>AverageTemperature</th>\n",
       "      <th>AverageTemperatureUncertainty</th>\n",
       "      <th>City</th>\n",
       "      <th>Country</th>\n",
       "      <th>Latitude</th>\n",
       "      <th>Longitude</th>\n",
       "    </tr>\n",
       "  </thead>\n",
       "  <tbody>\n",
       "    <tr>\n",
       "      <th>51674</th>\n",
       "      <td>1743-11-01</td>\n",
       "      <td>5.436</td>\n",
       "      <td>2.205</td>\n",
       "      <td>Chicago</td>\n",
       "      <td>United States</td>\n",
       "      <td>42.59N</td>\n",
       "      <td>87.27W</td>\n",
       "    </tr>\n",
       "    <tr>\n",
       "      <th>51679</th>\n",
       "      <td>1744-04-01</td>\n",
       "      <td>8.766</td>\n",
       "      <td>2.357</td>\n",
       "      <td>Chicago</td>\n",
       "      <td>United States</td>\n",
       "      <td>42.59N</td>\n",
       "      <td>87.27W</td>\n",
       "    </tr>\n",
       "    <tr>\n",
       "      <th>51680</th>\n",
       "      <td>1744-05-01</td>\n",
       "      <td>11.605</td>\n",
       "      <td>2.102</td>\n",
       "      <td>Chicago</td>\n",
       "      <td>United States</td>\n",
       "      <td>42.59N</td>\n",
       "      <td>87.27W</td>\n",
       "    </tr>\n",
       "    <tr>\n",
       "      <th>51681</th>\n",
       "      <td>1744-06-01</td>\n",
       "      <td>17.965</td>\n",
       "      <td>1.989</td>\n",
       "      <td>Chicago</td>\n",
       "      <td>United States</td>\n",
       "      <td>42.59N</td>\n",
       "      <td>87.27W</td>\n",
       "    </tr>\n",
       "    <tr>\n",
       "      <th>51682</th>\n",
       "      <td>1744-07-01</td>\n",
       "      <td>21.680</td>\n",
       "      <td>1.786</td>\n",
       "      <td>Chicago</td>\n",
       "      <td>United States</td>\n",
       "      <td>42.59N</td>\n",
       "      <td>87.27W</td>\n",
       "    </tr>\n",
       "  </tbody>\n",
       "</table>\n",
       "</div>"
      ],
      "text/plain": [
       "              dt  AverageTemperature  AverageTemperatureUncertainty     City  \\\n",
       "51674 1743-11-01               5.436                          2.205  Chicago   \n",
       "51679 1744-04-01               8.766                          2.357  Chicago   \n",
       "51680 1744-05-01              11.605                          2.102  Chicago   \n",
       "51681 1744-06-01              17.965                          1.989  Chicago   \n",
       "51682 1744-07-01              21.680                          1.786  Chicago   \n",
       "\n",
       "             Country Latitude Longitude  \n",
       "51674  United States   42.59N    87.27W  \n",
       "51679  United States   42.59N    87.27W  \n",
       "51680  United States   42.59N    87.27W  \n",
       "51681  United States   42.59N    87.27W  \n",
       "51682  United States   42.59N    87.27W  "
      ]
     },
     "execution_count": 31,
     "metadata": {},
     "output_type": "execute_result"
    }
   ],
   "source": [
    "df_north_america = df[(df.Country == \"Canada\") | (df.Country == \"United States\")]\n",
    "df_north_america.head()"
   ]
  },
  {
   "cell_type": "code",
   "execution_count": 32,
   "metadata": {},
   "outputs": [
    {
     "data": {
      "text/plain": [
       "Chicago        3141\n",
       "Montreal       3141\n",
       "Toronto        3141\n",
       "New York       3119\n",
       "Los Angeles    1977\n",
       "Name: City, dtype: int64"
      ]
     },
     "execution_count": 32,
     "metadata": {},
     "output_type": "execute_result"
    }
   ],
   "source": [
    "df_north_america.City.value_counts()"
   ]
  },
  {
   "cell_type": "code",
   "execution_count": 33,
   "metadata": {},
   "outputs": [
    {
     "data": {
      "text/html": [
       "<div>\n",
       "<style scoped>\n",
       "    .dataframe tbody tr th:only-of-type {\n",
       "        vertical-align: middle;\n",
       "    }\n",
       "\n",
       "    .dataframe tbody tr th {\n",
       "        vertical-align: top;\n",
       "    }\n",
       "\n",
       "    .dataframe thead th {\n",
       "        text-align: right;\n",
       "    }\n",
       "</style>\n",
       "<table border=\"1\" class=\"dataframe\">\n",
       "  <thead>\n",
       "    <tr style=\"text-align: right;\">\n",
       "      <th></th>\n",
       "      <th>dt</th>\n",
       "      <th>AverageTemperature</th>\n",
       "      <th>AverageTemperatureUncertainty</th>\n",
       "      <th>City</th>\n",
       "      <th>Country</th>\n",
       "      <th>Latitude</th>\n",
       "      <th>Longitude</th>\n",
       "    </tr>\n",
       "  </thead>\n",
       "  <tbody>\n",
       "    <tr>\n",
       "      <th>22319</th>\n",
       "      <td>1832-01-01</td>\n",
       "      <td>22.516</td>\n",
       "      <td>1.556</td>\n",
       "      <td>Belo Horizonte</td>\n",
       "      <td>Brazil</td>\n",
       "      <td>20.09S</td>\n",
       "      <td>44.36W</td>\n",
       "    </tr>\n",
       "    <tr>\n",
       "      <th>22320</th>\n",
       "      <td>1832-02-01</td>\n",
       "      <td>23.198</td>\n",
       "      <td>3.471</td>\n",
       "      <td>Belo Horizonte</td>\n",
       "      <td>Brazil</td>\n",
       "      <td>20.09S</td>\n",
       "      <td>44.36W</td>\n",
       "    </tr>\n",
       "    <tr>\n",
       "      <th>22321</th>\n",
       "      <td>1832-03-01</td>\n",
       "      <td>22.188</td>\n",
       "      <td>1.667</td>\n",
       "      <td>Belo Horizonte</td>\n",
       "      <td>Brazil</td>\n",
       "      <td>20.09S</td>\n",
       "      <td>44.36W</td>\n",
       "    </tr>\n",
       "    <tr>\n",
       "      <th>22322</th>\n",
       "      <td>1832-04-01</td>\n",
       "      <td>20.045</td>\n",
       "      <td>2.743</td>\n",
       "      <td>Belo Horizonte</td>\n",
       "      <td>Brazil</td>\n",
       "      <td>20.09S</td>\n",
       "      <td>44.36W</td>\n",
       "    </tr>\n",
       "    <tr>\n",
       "      <th>22323</th>\n",
       "      <td>1832-05-01</td>\n",
       "      <td>18.500</td>\n",
       "      <td>2.253</td>\n",
       "      <td>Belo Horizonte</td>\n",
       "      <td>Brazil</td>\n",
       "      <td>20.09S</td>\n",
       "      <td>44.36W</td>\n",
       "    </tr>\n",
       "  </tbody>\n",
       "</table>\n",
       "</div>"
      ],
      "text/plain": [
       "              dt  AverageTemperature  AverageTemperatureUncertainty  \\\n",
       "22319 1832-01-01              22.516                          1.556   \n",
       "22320 1832-02-01              23.198                          3.471   \n",
       "22321 1832-03-01              22.188                          1.667   \n",
       "22322 1832-04-01              20.045                          2.743   \n",
       "22323 1832-05-01              18.500                          2.253   \n",
       "\n",
       "                 City Country Latitude Longitude  \n",
       "22319  Belo Horizonte  Brazil   20.09S    44.36W  \n",
       "22320  Belo Horizonte  Brazil   20.09S    44.36W  \n",
       "22321  Belo Horizonte  Brazil   20.09S    44.36W  \n",
       "22322  Belo Horizonte  Brazil   20.09S    44.36W  \n",
       "22323  Belo Horizonte  Brazil   20.09S    44.36W  "
      ]
     },
     "execution_count": 33,
     "metadata": {},
     "output_type": "execute_result"
    }
   ],
   "source": [
    "df_south_america = df[(df.Country == \"Brazil\") | (df.Country == \"Argentina\") | (df.Country == \"Chile\") | (df.Country == \"Colombia\") | (df.Country == \"Peru\")]\n",
    "df_south_america.head()"
   ]
  },
  {
   "cell_type": "code",
   "execution_count": 34,
   "metadata": {},
   "outputs": [
    {
     "data": {
      "text/plain": [
       "Belo Horizonte    2096\n",
       "Brasília          2096\n",
       "Rio De Janeiro    2096\n",
       "São Paulo         2096\n",
       "Salvador          2096\n",
       "Bogotá            2018\n",
       "Cali              1985\n",
       "Santiago          1900\n",
       "Fortaleza         1659\n",
       "Lima              1521\n",
       "Name: City, dtype: int64"
      ]
     },
     "execution_count": 34,
     "metadata": {},
     "output_type": "execute_result"
    }
   ],
   "source": [
    "df_south_america.City.value_counts()"
   ]
  },
  {
   "cell_type": "code",
   "execution_count": 35,
   "metadata": {},
   "outputs": [
    {
     "data": {
      "text/plain": [
       "dt                               0\n",
       "AverageTemperature               0\n",
       "AverageTemperatureUncertainty    0\n",
       "City                             0\n",
       "Country                          0\n",
       "Latitude                         0\n",
       "Longitude                        0\n",
       "dtype: int64"
      ]
     },
     "execution_count": 35,
     "metadata": {},
     "output_type": "execute_result"
    }
   ],
   "source": [
    "df_north_america.isna().sum()"
   ]
  },
  {
   "cell_type": "code",
   "execution_count": 36,
   "metadata": {},
   "outputs": [
    {
     "data": {
      "text/plain": [
       "dt                               0\n",
       "AverageTemperature               0\n",
       "AverageTemperatureUncertainty    0\n",
       "City                             0\n",
       "Country                          0\n",
       "Latitude                         0\n",
       "Longitude                        0\n",
       "dtype: int64"
      ]
     },
     "execution_count": 36,
     "metadata": {},
     "output_type": "execute_result"
    }
   ],
   "source": [
    "df_south_america.isna().sum()"
   ]
  },
  {
   "cell_type": "code",
   "execution_count": 37,
   "metadata": {},
   "outputs": [
    {
     "name": "stdout",
     "output_type": "stream",
     "text": [
      "<class 'pandas.core.frame.DataFrame'>\n",
      "Int64Index: 14519 entries, 51674 to 232928\n",
      "Data columns (total 7 columns):\n",
      " #   Column                         Non-Null Count  Dtype         \n",
      "---  ------                         --------------  -----         \n",
      " 0   dt                             14519 non-null  datetime64[ns]\n",
      " 1   AverageTemperature             14519 non-null  float64       \n",
      " 2   AverageTemperatureUncertainty  14519 non-null  float64       \n",
      " 3   City                           14519 non-null  object        \n",
      " 4   Country                        14519 non-null  object        \n",
      " 5   Latitude                       14519 non-null  object        \n",
      " 6   Longitude                      14519 non-null  object        \n",
      "dtypes: datetime64[ns](1), float64(2), object(4)\n",
      "memory usage: 907.4+ KB\n"
     ]
    }
   ],
   "source": [
    "df_north_america.info()"
   ]
  },
  {
   "cell_type": "code",
   "execution_count": 38,
   "metadata": {},
   "outputs": [
    {
     "data": {
      "text/plain": [
       "count    14519.000000\n",
       "mean         8.597257\n",
       "std         10.009421\n",
       "min        -18.363000\n",
       "25%          0.599000\n",
       "50%          9.929000\n",
       "75%         17.413500\n",
       "max         29.141000\n",
       "Name: AverageTemperature, dtype: float64"
      ]
     },
     "execution_count": 38,
     "metadata": {},
     "output_type": "execute_result"
    }
   ],
   "source": [
    "df_north_america.AverageTemperature.describe()"
   ]
  },
  {
   "cell_type": "code",
   "execution_count": 41,
   "metadata": {},
   "outputs": [
    {
     "data": {
      "image/png": "[encoded data removed]",
      "text/plain": [
       "<Figure size 720x432 with 1 Axes>"
      ]
     },
     "metadata": {
      "needs_background": "light"
     },
     "output_type": "display_data"
    }
   ],
   "source": [
    "# make a plot of the temperature data\n",
    "plt.figure(figsize=(10,6))\n",
    "df_north_america.AverageTemperature.plot(kind='hist', bins=20)\n",
    "plt.show()"
   ]
  },
  {
   "cell_type": "code",
   "execution_count": 43,
   "metadata": {},
   "outputs": [
    {
     "data": {
      "image/png": "[encoded data removed]",
      "text/plain": [
       "<Figure size 720x432 with 1 Axes>"
      ]
     },
     "metadata": {
      "needs_background": "light"
     },
     "output_type": "display_data"
    }
   ],
   "source": [
    "plt.figure(figsize=(10,6))\n",
    "sns.histplot(df_north_america.AverageTemperature)\n",
    "plt.show()"
   ]
  },
  {
   "cell_type": "code",
   "execution_count": 49,
   "metadata": {},
   "outputs": [
    {
     "data": {
      "text/plain": [
       "<AxesSubplot:ylabel='Frequency'>"
      ]
     },
     "execution_count": 49,
     "metadata": {},
     "output_type": "execute_result"
    },
    {
     "data": {
      "image/png": "[encoded data removed]",
      "text/plain": [
       "<Figure size 864x576 with 1 Axes>"
      ]
     },
     "metadata": {
      "needs_background": "light"
     },
     "output_type": "display_data"
    }
   ],
   "source": [
    "\n",
    "df[(df.Country == \"Canada\") & (df.AverageTemperature)].plot(kind='hist', bins=20, x='AverageTemperature', figsize=(12,8))"
   ]
  },
  {
   "cell_type": "code",
   "execution_count": 60,
   "metadata": {},
   "outputs": [
    {
     "data": {
      "text/html": [
       "<div>\n",
       "<style scoped>\n",
       "    .dataframe tbody tr th:only-of-type {\n",
       "        vertical-align: middle;\n",
       "    }\n",
       "\n",
       "    .dataframe tbody tr th {\n",
       "        vertical-align: top;\n",
       "    }\n",
       "\n",
       "    .dataframe thead th {\n",
       "        text-align: right;\n",
       "    }\n",
       "</style>\n",
       "<table border=\"1\" class=\"dataframe\">\n",
       "  <thead>\n",
       "    <tr style=\"text-align: right;\">\n",
       "      <th></th>\n",
       "      <th>dt</th>\n",
       "      <th>AverageTemperature</th>\n",
       "      <th>AverageTemperatureUncertainty</th>\n",
       "      <th>City</th>\n",
       "      <th>Country</th>\n",
       "      <th>Latitude</th>\n",
       "      <th>Longitude</th>\n",
       "    </tr>\n",
       "  </thead>\n",
       "  <tbody>\n",
       "    <tr>\n",
       "      <th>51674</th>\n",
       "      <td>1743-11-01</td>\n",
       "      <td>5.436</td>\n",
       "      <td>2.205</td>\n",
       "      <td>Chicago</td>\n",
       "      <td>United States</td>\n",
       "      <td>42.59N</td>\n",
       "      <td>87.27W</td>\n",
       "    </tr>\n",
       "    <tr>\n",
       "      <th>51679</th>\n",
       "      <td>1744-04-01</td>\n",
       "      <td>8.766</td>\n",
       "      <td>2.357</td>\n",
       "      <td>Chicago</td>\n",
       "      <td>United States</td>\n",
       "      <td>42.59N</td>\n",
       "      <td>87.27W</td>\n",
       "    </tr>\n",
       "    <tr>\n",
       "      <th>51680</th>\n",
       "      <td>1744-05-01</td>\n",
       "      <td>11.605</td>\n",
       "      <td>2.102</td>\n",
       "      <td>Chicago</td>\n",
       "      <td>United States</td>\n",
       "      <td>42.59N</td>\n",
       "      <td>87.27W</td>\n",
       "    </tr>\n",
       "    <tr>\n",
       "      <th>51681</th>\n",
       "      <td>1744-06-01</td>\n",
       "      <td>17.965</td>\n",
       "      <td>1.989</td>\n",
       "      <td>Chicago</td>\n",
       "      <td>United States</td>\n",
       "      <td>42.59N</td>\n",
       "      <td>87.27W</td>\n",
       "    </tr>\n",
       "    <tr>\n",
       "      <th>51682</th>\n",
       "      <td>1744-07-01</td>\n",
       "      <td>21.680</td>\n",
       "      <td>1.786</td>\n",
       "      <td>Chicago</td>\n",
       "      <td>United States</td>\n",
       "      <td>42.59N</td>\n",
       "      <td>87.27W</td>\n",
       "    </tr>\n",
       "    <tr>\n",
       "      <th>...</th>\n",
       "      <td>...</td>\n",
       "      <td>...</td>\n",
       "      <td>...</td>\n",
       "      <td>...</td>\n",
       "      <td>...</td>\n",
       "      <td>...</td>\n",
       "      <td>...</td>\n",
       "    </tr>\n",
       "    <tr>\n",
       "      <th>232924</th>\n",
       "      <td>2013-05-01</td>\n",
       "      <td>13.818</td>\n",
       "      <td>0.278</td>\n",
       "      <td>Toronto</td>\n",
       "      <td>Canada</td>\n",
       "      <td>44.20N</td>\n",
       "      <td>80.50W</td>\n",
       "    </tr>\n",
       "    <tr>\n",
       "      <th>232925</th>\n",
       "      <td>2013-06-01</td>\n",
       "      <td>17.367</td>\n",
       "      <td>0.226</td>\n",
       "      <td>Toronto</td>\n",
       "      <td>Canada</td>\n",
       "      <td>44.20N</td>\n",
       "      <td>80.50W</td>\n",
       "    </tr>\n",
       "    <tr>\n",
       "      <th>232926</th>\n",
       "      <td>2013-07-01</td>\n",
       "      <td>20.460</td>\n",
       "      <td>0.290</td>\n",
       "      <td>Toronto</td>\n",
       "      <td>Canada</td>\n",
       "      <td>44.20N</td>\n",
       "      <td>80.50W</td>\n",
       "    </tr>\n",
       "    <tr>\n",
       "      <th>232927</th>\n",
       "      <td>2013-08-01</td>\n",
       "      <td>18.520</td>\n",
       "      <td>0.342</td>\n",
       "      <td>Toronto</td>\n",
       "      <td>Canada</td>\n",
       "      <td>44.20N</td>\n",
       "      <td>80.50W</td>\n",
       "    </tr>\n",
       "    <tr>\n",
       "      <th>232928</th>\n",
       "      <td>2013-09-01</td>\n",
       "      <td>14.599</td>\n",
       "      <td>1.274</td>\n",
       "      <td>Toronto</td>\n",
       "      <td>Canada</td>\n",
       "      <td>44.20N</td>\n",
       "      <td>80.50W</td>\n",
       "    </tr>\n",
       "  </tbody>\n",
       "</table>\n",
       "<p>14519 rows × 7 columns</p>\n",
       "</div>"
      ],
      "text/plain": [
       "               dt  AverageTemperature  AverageTemperatureUncertainty     City  \\\n",
       "51674  1743-11-01               5.436                          2.205  Chicago   \n",
       "51679  1744-04-01               8.766                          2.357  Chicago   \n",
       "51680  1744-05-01              11.605                          2.102  Chicago   \n",
       "51681  1744-06-01              17.965                          1.989  Chicago   \n",
       "51682  1744-07-01              21.680                          1.786  Chicago   \n",
       "...           ...                 ...                            ...      ...   \n",
       "232924 2013-05-01              13.818                          0.278  Toronto   \n",
       "232925 2013-06-01              17.367                          0.226  Toronto   \n",
       "232926 2013-07-01              20.460                          0.290  Toronto   \n",
       "232927 2013-08-01              18.520                          0.342  Toronto   \n",
       "232928 2013-09-01              14.599                          1.274  Toronto   \n",
       "\n",
       "              Country Latitude Longitude  \n",
       "51674   United States   42.59N    87.27W  \n",
       "51679   United States   42.59N    87.27W  \n",
       "51680   United States   42.59N    87.27W  \n",
       "51681   United States   42.59N    87.27W  \n",
       "51682   United States   42.59N    87.27W  \n",
       "...               ...      ...       ...  \n",
       "232924         Canada   44.20N    80.50W  \n",
       "232925         Canada   44.20N    80.50W  \n",
       "232926         Canada   44.20N    80.50W  \n",
       "232927         Canada   44.20N    80.50W  \n",
       "232928         Canada   44.20N    80.50W  \n",
       "\n",
       "[14519 rows x 7 columns]"
      ]
     },
     "execution_count": 60,
     "metadata": {},
     "output_type": "execute_result"
    }
   ],
   "source": [
    "df_north_america[(df_north_america[\"Country\"] == \"Canada\") & (df_north_america[\"AverageTemperature\"]) < 10]"
   ]
  },
  {
   "cell_type": "code",
   "execution_count": 62,
   "metadata": {},
   "outputs": [],
   "source": [
    "df_select = df[df[\"Country\"].isin([\"Canada\", \"United States\", \"Brazil\", \"Portugal\"])]"
   ]
  },
  {
   "cell_type": "code",
   "execution_count": 65,
   "metadata": {},
   "outputs": [
    {
     "data": {
      "text/html": [
       "<div>\n",
       "<style scoped>\n",
       "    .dataframe tbody tr th:only-of-type {\n",
       "        vertical-align: middle;\n",
       "    }\n",
       "\n",
       "    .dataframe tbody tr th {\n",
       "        vertical-align: top;\n",
       "    }\n",
       "\n",
       "    .dataframe thead th {\n",
       "        text-align: right;\n",
       "    }\n",
       "</style>\n",
       "<table border=\"1\" class=\"dataframe\">\n",
       "  <thead>\n",
       "    <tr style=\"text-align: right;\">\n",
       "      <th></th>\n",
       "      <th>dt</th>\n",
       "      <th>AverageTemperature</th>\n",
       "      <th>AverageTemperatureUncertainty</th>\n",
       "      <th>City</th>\n",
       "      <th>Country</th>\n",
       "      <th>Latitude</th>\n",
       "      <th>Longitude</th>\n",
       "    </tr>\n",
       "  </thead>\n",
       "  <tbody>\n",
       "    <tr>\n",
       "      <th>22319</th>\n",
       "      <td>1832-01-01</td>\n",
       "      <td>22.516</td>\n",
       "      <td>1.556</td>\n",
       "      <td>Belo Horizonte</td>\n",
       "      <td>Brazil</td>\n",
       "      <td>20.09S</td>\n",
       "      <td>44.36W</td>\n",
       "    </tr>\n",
       "    <tr>\n",
       "      <th>22320</th>\n",
       "      <td>1832-02-01</td>\n",
       "      <td>23.198</td>\n",
       "      <td>3.471</td>\n",
       "      <td>Belo Horizonte</td>\n",
       "      <td>Brazil</td>\n",
       "      <td>20.09S</td>\n",
       "      <td>44.36W</td>\n",
       "    </tr>\n",
       "    <tr>\n",
       "      <th>22321</th>\n",
       "      <td>1832-03-01</td>\n",
       "      <td>22.188</td>\n",
       "      <td>1.667</td>\n",
       "      <td>Belo Horizonte</td>\n",
       "      <td>Brazil</td>\n",
       "      <td>20.09S</td>\n",
       "      <td>44.36W</td>\n",
       "    </tr>\n",
       "    <tr>\n",
       "      <th>22322</th>\n",
       "      <td>1832-04-01</td>\n",
       "      <td>20.045</td>\n",
       "      <td>2.743</td>\n",
       "      <td>Belo Horizonte</td>\n",
       "      <td>Brazil</td>\n",
       "      <td>20.09S</td>\n",
       "      <td>44.36W</td>\n",
       "    </tr>\n",
       "    <tr>\n",
       "      <th>22323</th>\n",
       "      <td>1832-05-01</td>\n",
       "      <td>18.500</td>\n",
       "      <td>2.253</td>\n",
       "      <td>Belo Horizonte</td>\n",
       "      <td>Brazil</td>\n",
       "      <td>20.09S</td>\n",
       "      <td>44.36W</td>\n",
       "    </tr>\n",
       "    <tr>\n",
       "      <th>22324</th>\n",
       "      <td>1832-06-01</td>\n",
       "      <td>18.043</td>\n",
       "      <td>2.059</td>\n",
       "      <td>Belo Horizonte</td>\n",
       "      <td>Brazil</td>\n",
       "      <td>20.09S</td>\n",
       "      <td>44.36W</td>\n",
       "    </tr>\n",
       "    <tr>\n",
       "      <th>22325</th>\n",
       "      <td>1832-07-01</td>\n",
       "      <td>17.749</td>\n",
       "      <td>2.747</td>\n",
       "      <td>Belo Horizonte</td>\n",
       "      <td>Brazil</td>\n",
       "      <td>20.09S</td>\n",
       "      <td>44.36W</td>\n",
       "    </tr>\n",
       "    <tr>\n",
       "      <th>22326</th>\n",
       "      <td>1832-08-01</td>\n",
       "      <td>18.510</td>\n",
       "      <td>2.570</td>\n",
       "      <td>Belo Horizonte</td>\n",
       "      <td>Brazil</td>\n",
       "      <td>20.09S</td>\n",
       "      <td>44.36W</td>\n",
       "    </tr>\n",
       "    <tr>\n",
       "      <th>22327</th>\n",
       "      <td>1832-09-01</td>\n",
       "      <td>19.754</td>\n",
       "      <td>2.998</td>\n",
       "      <td>Belo Horizonte</td>\n",
       "      <td>Brazil</td>\n",
       "      <td>20.09S</td>\n",
       "      <td>44.36W</td>\n",
       "    </tr>\n",
       "    <tr>\n",
       "      <th>22328</th>\n",
       "      <td>1832-10-01</td>\n",
       "      <td>20.629</td>\n",
       "      <td>2.249</td>\n",
       "      <td>Belo Horizonte</td>\n",
       "      <td>Brazil</td>\n",
       "      <td>20.09S</td>\n",
       "      <td>44.36W</td>\n",
       "    </tr>\n",
       "  </tbody>\n",
       "</table>\n",
       "</div>"
      ],
      "text/plain": [
       "              dt  AverageTemperature  AverageTemperatureUncertainty  \\\n",
       "22319 1832-01-01              22.516                          1.556   \n",
       "22320 1832-02-01              23.198                          3.471   \n",
       "22321 1832-03-01              22.188                          1.667   \n",
       "22322 1832-04-01              20.045                          2.743   \n",
       "22323 1832-05-01              18.500                          2.253   \n",
       "22324 1832-06-01              18.043                          2.059   \n",
       "22325 1832-07-01              17.749                          2.747   \n",
       "22326 1832-08-01              18.510                          2.570   \n",
       "22327 1832-09-01              19.754                          2.998   \n",
       "22328 1832-10-01              20.629                          2.249   \n",
       "\n",
       "                 City Country Latitude Longitude  \n",
       "22319  Belo Horizonte  Brazil   20.09S    44.36W  \n",
       "22320  Belo Horizonte  Brazil   20.09S    44.36W  \n",
       "22321  Belo Horizonte  Brazil   20.09S    44.36W  \n",
       "22322  Belo Horizonte  Brazil   20.09S    44.36W  \n",
       "22323  Belo Horizonte  Brazil   20.09S    44.36W  \n",
       "22324  Belo Horizonte  Brazil   20.09S    44.36W  \n",
       "22325  Belo Horizonte  Brazil   20.09S    44.36W  \n",
       "22326  Belo Horizonte  Brazil   20.09S    44.36W  \n",
       "22327  Belo Horizonte  Brazil   20.09S    44.36W  \n",
       "22328  Belo Horizonte  Brazil   20.09S    44.36W  "
      ]
     },
     "execution_count": 65,
     "metadata": {},
     "output_type": "execute_result"
    }
   ],
   "source": [
    "df_select.head(10)"
   ]
  },
  {
   "cell_type": "code",
   "execution_count": 66,
   "metadata": {},
   "outputs": [
    {
     "data": {
      "text/html": [
       "<div>\n",
       "<style scoped>\n",
       "    .dataframe tbody tr th:only-of-type {\n",
       "        vertical-align: middle;\n",
       "    }\n",
       "\n",
       "    .dataframe tbody tr th {\n",
       "        vertical-align: top;\n",
       "    }\n",
       "\n",
       "    .dataframe thead th {\n",
       "        text-align: right;\n",
       "    }\n",
       "</style>\n",
       "<table border=\"1\" class=\"dataframe\">\n",
       "  <thead>\n",
       "    <tr style=\"text-align: right;\">\n",
       "      <th></th>\n",
       "      <th>dt</th>\n",
       "      <th>AverageTemperature</th>\n",
       "      <th>AverageTemperatureUncertainty</th>\n",
       "      <th>City</th>\n",
       "      <th>Country</th>\n",
       "      <th>Latitude</th>\n",
       "      <th>Longitude</th>\n",
       "    </tr>\n",
       "  </thead>\n",
       "  <tbody>\n",
       "    <tr>\n",
       "      <th>232919</th>\n",
       "      <td>2012-12-01</td>\n",
       "      <td>-1.003</td>\n",
       "      <td>0.356</td>\n",
       "      <td>Toronto</td>\n",
       "      <td>Canada</td>\n",
       "      <td>44.20N</td>\n",
       "      <td>80.50W</td>\n",
       "    </tr>\n",
       "    <tr>\n",
       "      <th>232920</th>\n",
       "      <td>2013-01-01</td>\n",
       "      <td>-4.681</td>\n",
       "      <td>0.235</td>\n",
       "      <td>Toronto</td>\n",
       "      <td>Canada</td>\n",
       "      <td>44.20N</td>\n",
       "      <td>80.50W</td>\n",
       "    </tr>\n",
       "    <tr>\n",
       "      <th>232921</th>\n",
       "      <td>2013-02-01</td>\n",
       "      <td>-6.743</td>\n",
       "      <td>0.519</td>\n",
       "      <td>Toronto</td>\n",
       "      <td>Canada</td>\n",
       "      <td>44.20N</td>\n",
       "      <td>80.50W</td>\n",
       "    </tr>\n",
       "    <tr>\n",
       "      <th>232922</th>\n",
       "      <td>2013-03-01</td>\n",
       "      <td>-1.862</td>\n",
       "      <td>0.449</td>\n",
       "      <td>Toronto</td>\n",
       "      <td>Canada</td>\n",
       "      <td>44.20N</td>\n",
       "      <td>80.50W</td>\n",
       "    </tr>\n",
       "    <tr>\n",
       "      <th>232923</th>\n",
       "      <td>2013-04-01</td>\n",
       "      <td>4.657</td>\n",
       "      <td>0.318</td>\n",
       "      <td>Toronto</td>\n",
       "      <td>Canada</td>\n",
       "      <td>44.20N</td>\n",
       "      <td>80.50W</td>\n",
       "    </tr>\n",
       "    <tr>\n",
       "      <th>232924</th>\n",
       "      <td>2013-05-01</td>\n",
       "      <td>13.818</td>\n",
       "      <td>0.278</td>\n",
       "      <td>Toronto</td>\n",
       "      <td>Canada</td>\n",
       "      <td>44.20N</td>\n",
       "      <td>80.50W</td>\n",
       "    </tr>\n",
       "    <tr>\n",
       "      <th>232925</th>\n",
       "      <td>2013-06-01</td>\n",
       "      <td>17.367</td>\n",
       "      <td>0.226</td>\n",
       "      <td>Toronto</td>\n",
       "      <td>Canada</td>\n",
       "      <td>44.20N</td>\n",
       "      <td>80.50W</td>\n",
       "    </tr>\n",
       "    <tr>\n",
       "      <th>232926</th>\n",
       "      <td>2013-07-01</td>\n",
       "      <td>20.460</td>\n",
       "      <td>0.290</td>\n",
       "      <td>Toronto</td>\n",
       "      <td>Canada</td>\n",
       "      <td>44.20N</td>\n",
       "      <td>80.50W</td>\n",
       "    </tr>\n",
       "    <tr>\n",
       "      <th>232927</th>\n",
       "      <td>2013-08-01</td>\n",
       "      <td>18.520</td>\n",
       "      <td>0.342</td>\n",
       "      <td>Toronto</td>\n",
       "      <td>Canada</td>\n",
       "      <td>44.20N</td>\n",
       "      <td>80.50W</td>\n",
       "    </tr>\n",
       "    <tr>\n",
       "      <th>232928</th>\n",
       "      <td>2013-09-01</td>\n",
       "      <td>14.599</td>\n",
       "      <td>1.274</td>\n",
       "      <td>Toronto</td>\n",
       "      <td>Canada</td>\n",
       "      <td>44.20N</td>\n",
       "      <td>80.50W</td>\n",
       "    </tr>\n",
       "  </tbody>\n",
       "</table>\n",
       "</div>"
      ],
      "text/plain": [
       "               dt  AverageTemperature  AverageTemperatureUncertainty     City  \\\n",
       "232919 2012-12-01              -1.003                          0.356  Toronto   \n",
       "232920 2013-01-01              -4.681                          0.235  Toronto   \n",
       "232921 2013-02-01              -6.743                          0.519  Toronto   \n",
       "232922 2013-03-01              -1.862                          0.449  Toronto   \n",
       "232923 2013-04-01               4.657                          0.318  Toronto   \n",
       "232924 2013-05-01              13.818                          0.278  Toronto   \n",
       "232925 2013-06-01              17.367                          0.226  Toronto   \n",
       "232926 2013-07-01              20.460                          0.290  Toronto   \n",
       "232927 2013-08-01              18.520                          0.342  Toronto   \n",
       "232928 2013-09-01              14.599                          1.274  Toronto   \n",
       "\n",
       "       Country Latitude Longitude  \n",
       "232919  Canada   44.20N    80.50W  \n",
       "232920  Canada   44.20N    80.50W  \n",
       "232921  Canada   44.20N    80.50W  \n",
       "232922  Canada   44.20N    80.50W  \n",
       "232923  Canada   44.20N    80.50W  \n",
       "232924  Canada   44.20N    80.50W  \n",
       "232925  Canada   44.20N    80.50W  \n",
       "232926  Canada   44.20N    80.50W  \n",
       "232927  Canada   44.20N    80.50W  \n",
       "232928  Canada   44.20N    80.50W  "
      ]
     },
     "execution_count": 66,
     "metadata": {},
     "output_type": "execute_result"
    }
   ],
   "source": [
    "df_select.tail(10)"
   ]
  },
  {
   "cell_type": "code",
   "execution_count": 68,
   "metadata": {},
   "outputs": [
    {
     "name": "stdout",
     "output_type": "stream",
     "text": [
      "<class 'pandas.core.frame.DataFrame'>\n",
      "Int64Index: 26658 entries, 22319 to 232928\n",
      "Data columns (total 7 columns):\n",
      " #   Column                         Non-Null Count  Dtype         \n",
      "---  ------                         --------------  -----         \n",
      " 0   dt                             26658 non-null  datetime64[ns]\n",
      " 1   AverageTemperature             26658 non-null  float64       \n",
      " 2   AverageTemperatureUncertainty  26658 non-null  float64       \n",
      " 3   City                           26658 non-null  object        \n",
      " 4   Country                        26658 non-null  object        \n",
      " 5   Latitude                       26658 non-null  object        \n",
      " 6   Longitude                      26658 non-null  object        \n",
      "dtypes: datetime64[ns](1), float64(2), object(4)\n",
      "memory usage: 1.6+ MB\n"
     ]
    }
   ],
   "source": [
    "df_select.info()"
   ]
  },
  {
   "cell_type": "code",
   "execution_count": 69,
   "metadata": {},
   "outputs": [
    {
     "data": {
      "text/html": [
       "<div>\n",
       "<style scoped>\n",
       "    .dataframe tbody tr th:only-of-type {\n",
       "        vertical-align: middle;\n",
       "    }\n",
       "\n",
       "    .dataframe tbody tr th {\n",
       "        vertical-align: top;\n",
       "    }\n",
       "\n",
       "    .dataframe thead th {\n",
       "        text-align: right;\n",
       "    }\n",
       "</style>\n",
       "<table border=\"1\" class=\"dataframe\">\n",
       "  <thead>\n",
       "    <tr style=\"text-align: right;\">\n",
       "      <th></th>\n",
       "      <th>AverageTemperature</th>\n",
       "      <th>AverageTemperatureUncertainty</th>\n",
       "    </tr>\n",
       "  </thead>\n",
       "  <tbody>\n",
       "    <tr>\n",
       "      <th>count</th>\n",
       "      <td>26658.000000</td>\n",
       "      <td>26658.000000</td>\n",
       "    </tr>\n",
       "    <tr>\n",
       "      <th>mean</th>\n",
       "      <td>15.086280</td>\n",
       "      <td>1.078607</td>\n",
       "    </tr>\n",
       "    <tr>\n",
       "      <th>std</th>\n",
       "      <td>10.434628</td>\n",
       "      <td>1.060047</td>\n",
       "    </tr>\n",
       "    <tr>\n",
       "      <th>min</th>\n",
       "      <td>-18.363000</td>\n",
       "      <td>0.040000</td>\n",
       "    </tr>\n",
       "    <tr>\n",
       "      <th>25%</th>\n",
       "      <td>8.542500</td>\n",
       "      <td>0.350000</td>\n",
       "    </tr>\n",
       "    <tr>\n",
       "      <th>50%</th>\n",
       "      <td>18.996500</td>\n",
       "      <td>0.664000</td>\n",
       "    </tr>\n",
       "    <tr>\n",
       "      <th>75%</th>\n",
       "      <td>22.759750</td>\n",
       "      <td>1.436750</td>\n",
       "    </tr>\n",
       "    <tr>\n",
       "      <th>max</th>\n",
       "      <td>29.986000</td>\n",
       "      <td>10.193000</td>\n",
       "    </tr>\n",
       "  </tbody>\n",
       "</table>\n",
       "</div>"
      ],
      "text/plain": [
       "       AverageTemperature  AverageTemperatureUncertainty\n",
       "count        26658.000000                   26658.000000\n",
       "mean            15.086280                       1.078607\n",
       "std             10.434628                       1.060047\n",
       "min            -18.363000                       0.040000\n",
       "25%              8.542500                       0.350000\n",
       "50%             18.996500                       0.664000\n",
       "75%             22.759750                       1.436750\n",
       "max             29.986000                      10.193000"
      ]
     },
     "execution_count": 69,
     "metadata": {},
     "output_type": "execute_result"
    }
   ],
   "source": [
    "df_select.describe()"
   ]
  },
  {
   "cell_type": "code",
   "execution_count": 70,
   "metadata": {},
   "outputs": [
    {
     "data": {
      "text/html": [
       "<div>\n",
       "<style scoped>\n",
       "    .dataframe tbody tr th:only-of-type {\n",
       "        vertical-align: middle;\n",
       "    }\n",
       "\n",
       "    .dataframe tbody tr th {\n",
       "        vertical-align: top;\n",
       "    }\n",
       "\n",
       "    .dataframe thead th {\n",
       "        text-align: right;\n",
       "    }\n",
       "</style>\n",
       "<table border=\"1\" class=\"dataframe\">\n",
       "  <thead>\n",
       "    <tr style=\"text-align: right;\">\n",
       "      <th></th>\n",
       "      <th>AverageTemperature</th>\n",
       "      <th>AverageTemperatureUncertainty</th>\n",
       "    </tr>\n",
       "  </thead>\n",
       "  <tbody>\n",
       "    <tr>\n",
       "      <th>AverageTemperature</th>\n",
       "      <td>1.000000</td>\n",
       "      <td>-0.230534</td>\n",
       "    </tr>\n",
       "    <tr>\n",
       "      <th>AverageTemperatureUncertainty</th>\n",
       "      <td>-0.230534</td>\n",
       "      <td>1.000000</td>\n",
       "    </tr>\n",
       "  </tbody>\n",
       "</table>\n",
       "</div>"
      ],
      "text/plain": [
       "                               AverageTemperature  \\\n",
       "AverageTemperature                       1.000000   \n",
       "AverageTemperatureUncertainty           -0.230534   \n",
       "\n",
       "                               AverageTemperatureUncertainty  \n",
       "AverageTemperature                                 -0.230534  \n",
       "AverageTemperatureUncertainty                       1.000000  "
      ]
     },
     "execution_count": 70,
     "metadata": {},
     "output_type": "execute_result"
    }
   ],
   "source": [
    "df_select.corr()"
   ]
  },
  {
   "cell_type": "code",
   "execution_count": 71,
   "metadata": {},
   "outputs": [
    {
     "data": {
      "text/html": [
       "<div>\n",
       "<style scoped>\n",
       "    .dataframe tbody tr th:only-of-type {\n",
       "        vertical-align: middle;\n",
       "    }\n",
       "\n",
       "    .dataframe tbody tr th {\n",
       "        vertical-align: top;\n",
       "    }\n",
       "\n",
       "    .dataframe thead th {\n",
       "        text-align: right;\n",
       "    }\n",
       "</style>\n",
       "<table border=\"1\" class=\"dataframe\">\n",
       "  <thead>\n",
       "    <tr style=\"text-align: right;\">\n",
       "      <th></th>\n",
       "      <th>AverageTemperature</th>\n",
       "      <th>AverageTemperatureUncertainty</th>\n",
       "    </tr>\n",
       "    <tr>\n",
       "      <th>Country</th>\n",
       "      <th></th>\n",
       "      <th></th>\n",
       "    </tr>\n",
       "  </thead>\n",
       "  <tbody>\n",
       "    <tr>\n",
       "      <th>Brazil</th>\n",
       "      <td>22.847555</td>\n",
       "      <td>0.877419</td>\n",
       "    </tr>\n",
       "    <tr>\n",
       "      <th>Canada</th>\n",
       "      <td>5.109462</td>\n",
       "      <td>1.307818</td>\n",
       "    </tr>\n",
       "    <tr>\n",
       "      <th>United States</th>\n",
       "      <td>11.257246</td>\n",
       "      <td>1.200292</td>\n",
       "    </tr>\n",
       "  </tbody>\n",
       "</table>\n",
       "</div>"
      ],
      "text/plain": [
       "               AverageTemperature  AverageTemperatureUncertainty\n",
       "Country                                                         \n",
       "Brazil                  22.847555                       0.877419\n",
       "Canada                   5.109462                       1.307818\n",
       "United States           11.257246                       1.200292"
      ]
     },
     "execution_count": 71,
     "metadata": {},
     "output_type": "execute_result"
    }
   ],
   "source": [
    "df_select.groupby(\"Country\").mean()"
   ]
  },
  {
   "cell_type": "code",
   "execution_count": null,
   "metadata": {},
   "outputs": [],
   "source": []
  }
 ],
 "metadata": {
  "interpreter": {
   "hash": "40d3a090f54c6569ab1632332b64b2c03c39dcf918b08424e98f38b5ae0af88f"
  },
  "kernelspec": {
   "display_name": "Python 3.9.7 64-bit ('base': conda)",
   "language": "python",
   "name": "python3"
  },
  "language_info": {
   "codemirror_mode": {
    "name": "ipython",
    "version": 3
   },
   "file_extension": ".py",
   "mimetype": "text/x-python",
   "name": "python",
   "nbconvert_exporter": "python",
   "pygments_lexer": "ipython3",
   "version": "3.10.0"
  },
  "orig_nbformat": 4
 },
 "nbformat": 4,
 "nbformat_minor": 2
}
